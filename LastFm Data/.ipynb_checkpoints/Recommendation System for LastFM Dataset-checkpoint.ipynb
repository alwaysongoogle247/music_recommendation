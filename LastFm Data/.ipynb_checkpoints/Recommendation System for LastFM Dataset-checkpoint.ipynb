{
 "cells": [
  {
   "cell_type": "markdown",
   "metadata": {},
   "source": [
    "# Recommendation System for LastFM Dataset"
   ]
  },
  {
   "cell_type": "markdown",
   "metadata": {},
   "source": [
    "### Importing Libraries"
   ]
  },
  {
   "cell_type": "code",
   "execution_count": 1,
   "metadata": {},
   "outputs": [
    {
     "name": "stderr",
     "output_type": "stream",
     "text": [
      "/Users/billylopez/opt/anaconda3/envs/learn-env/lib/python3.6/site-packages/fuzzywuzzy/fuzz.py:11: UserWarning: Using slow pure-python SequenceMatcher. Install python-Levenshtein to remove this warning\n",
      "  warnings.warn('Using slow pure-python SequenceMatcher. Install python-Levenshtein to remove this warning')\n"
     ]
    }
   ],
   "source": [
    "import pandas as pd\n",
    "import numpy as np\n",
    "import matplotlib as plt\n",
    "import matplotlib.pyplot as plt\n",
    "import seaborn as sns\n",
    "import matplotlib.ticker as ticker\n",
    "from fuzzywuzzy import fuzz, process\n",
    "from sklearn.neighbors import NearestNeighbors\n",
    "from functools import reduce\n",
    "from surprise import SVD\n",
    "from surprise import Dataset\n",
    "from surprise.model_selection import cross_validate\n",
    "from surprise.prediction_algorithms import knns\n",
    "from surprise.similarities import cosine, msd, pearson\n",
    "from surprise import accuracy\n",
    "from surprise import Reader\n",
    "from scipy.sparse import csr_matrix \n",
    "from scipy.sparse import csc_matrix\n",
    "from scipy.sparse.linalg import svds\n",
    "from surprise.model_selection import train_test_split\n",
    "from surprise.prediction_algorithms import SVD\n",
    "from surprise.model_selection import GridSearchCV\n",
    "pd.set_option(\"display.max_rows\", None, \"display.max_columns\", None)"
   ]
  },
  {
   "cell_type": "markdown",
   "metadata": {},
   "source": [
    "### Importing datasets"
   ]
  },
  {
   "cell_type": "code",
   "execution_count": 2,
   "metadata": {},
   "outputs": [],
   "source": [
    "artist = pd.read_csv('Artist_lastfm.csv')\n",
    "artist_tag = pd.read_csv('user_artist_tag_date_lastfm.csv')\n",
    "user_tag = pd.read_csv('user_artist_tag_lastfm.csv')\n",
    "plays = pd.read_csv('user_artist_weight_lastfm.csv')\n",
    "user_friend = pd.read_csv('user_friend_lastfm.csv')\n",
    "tags = pd.read_csv('tags_lastfm.csv',encoding='latin-1')"
   ]
  },
  {
   "cell_type": "markdown",
   "metadata": {},
   "source": [
    "### Exploring Data"
   ]
  },
  {
   "cell_type": "code",
   "execution_count": 3,
   "metadata": {},
   "outputs": [
    {
     "data": {
      "text/plain": [
       "2010    54998\n",
       "2009    43366\n",
       "2008    40273\n",
       "2007    20415\n",
       "2011    15125\n",
       "2006     9814\n",
       "2005     2483\n",
       "1956        3\n",
       "1979        1\n",
       "1957        1\n",
       "Name: year, dtype: int64"
      ]
     },
     "execution_count": 3,
     "metadata": {},
     "output_type": "execute_result"
    }
   ],
   "source": [
    "artist_tag.year.value_counts()"
   ]
  },
  {
   "cell_type": "code",
   "execution_count": 4,
   "metadata": {},
   "outputs": [
    {
     "data": {
      "text/html": [
       "<div>\n",
       "<style scoped>\n",
       "    .dataframe tbody tr th:only-of-type {\n",
       "        vertical-align: middle;\n",
       "    }\n",
       "\n",
       "    .dataframe tbody tr th {\n",
       "        vertical-align: top;\n",
       "    }\n",
       "\n",
       "    .dataframe thead th {\n",
       "        text-align: right;\n",
       "    }\n",
       "</style>\n",
       "<table border=\"1\" class=\"dataframe\">\n",
       "  <thead>\n",
       "    <tr style=\"text-align: right;\">\n",
       "      <th></th>\n",
       "      <th>userID</th>\n",
       "      <th>artistID</th>\n",
       "      <th>weight</th>\n",
       "    </tr>\n",
       "  </thead>\n",
       "  <tbody>\n",
       "    <tr>\n",
       "      <th>0</th>\n",
       "      <td>2</td>\n",
       "      <td>51</td>\n",
       "      <td>13883</td>\n",
       "    </tr>\n",
       "    <tr>\n",
       "      <th>1</th>\n",
       "      <td>2</td>\n",
       "      <td>52</td>\n",
       "      <td>11690</td>\n",
       "    </tr>\n",
       "    <tr>\n",
       "      <th>2</th>\n",
       "      <td>2</td>\n",
       "      <td>53</td>\n",
       "      <td>11351</td>\n",
       "    </tr>\n",
       "  </tbody>\n",
       "</table>\n",
       "</div>"
      ],
      "text/plain": [
       "   userID  artistID  weight\n",
       "0       2        51   13883\n",
       "1       2        52   11690\n",
       "2       2        53   11351"
      ]
     },
     "execution_count": 4,
     "metadata": {},
     "output_type": "execute_result"
    }
   ],
   "source": [
    "# ua_weight_df dataframe holds the amount of plays a user played an artist\n",
    "plays.head(3)"
   ]
  },
  {
   "cell_type": "code",
   "execution_count": 5,
   "metadata": {},
   "outputs": [
    {
     "data": {
      "text/html": [
       "<div>\n",
       "<style scoped>\n",
       "    .dataframe tbody tr th:only-of-type {\n",
       "        vertical-align: middle;\n",
       "    }\n",
       "\n",
       "    .dataframe tbody tr th {\n",
       "        vertical-align: top;\n",
       "    }\n",
       "\n",
       "    .dataframe thead th {\n",
       "        text-align: right;\n",
       "    }\n",
       "</style>\n",
       "<table border=\"1\" class=\"dataframe\">\n",
       "  <thead>\n",
       "    <tr style=\"text-align: right;\">\n",
       "      <th></th>\n",
       "      <th>artistID</th>\n",
       "      <th>name</th>\n",
       "      <th>url</th>\n",
       "      <th>pictureURL</th>\n",
       "    </tr>\n",
       "  </thead>\n",
       "  <tbody>\n",
       "    <tr>\n",
       "      <th>0</th>\n",
       "      <td>1</td>\n",
       "      <td>MALICE MIZER</td>\n",
       "      <td>http://www.last.fm/music/MALICE+MIZER</td>\n",
       "      <td>http://userserve-ak.last.fm/serve/252/10808.jpg</td>\n",
       "    </tr>\n",
       "    <tr>\n",
       "      <th>1</th>\n",
       "      <td>2</td>\n",
       "      <td>Diary of Dreams</td>\n",
       "      <td>http://www.last.fm/music/Diary+of+Dreams</td>\n",
       "      <td>http://userserve-ak.last.fm/serve/252/3052066.jpg</td>\n",
       "    </tr>\n",
       "    <tr>\n",
       "      <th>2</th>\n",
       "      <td>3</td>\n",
       "      <td>Carpathian Forest</td>\n",
       "      <td>http://www.last.fm/music/Carpathian+Forest</td>\n",
       "      <td>http://userserve-ak.last.fm/serve/252/40222717...</td>\n",
       "    </tr>\n",
       "  </tbody>\n",
       "</table>\n",
       "</div>"
      ],
      "text/plain": [
       "   artistID               name                                         url  \\\n",
       "0         1       MALICE MIZER       http://www.last.fm/music/MALICE+MIZER   \n",
       "1         2    Diary of Dreams    http://www.last.fm/music/Diary+of+Dreams   \n",
       "2         3  Carpathian Forest  http://www.last.fm/music/Carpathian+Forest   \n",
       "\n",
       "                                          pictureURL  \n",
       "0    http://userserve-ak.last.fm/serve/252/10808.jpg  \n",
       "1  http://userserve-ak.last.fm/serve/252/3052066.jpg  \n",
       "2  http://userserve-ak.last.fm/serve/252/40222717...  "
      ]
     },
     "execution_count": 5,
     "metadata": {},
     "output_type": "execute_result"
    }
   ],
   "source": [
    "artist.head(3)"
   ]
  },
  {
   "cell_type": "code",
   "execution_count": 6,
   "metadata": {},
   "outputs": [
    {
     "data": {
      "text/html": [
       "<div>\n",
       "<style scoped>\n",
       "    .dataframe tbody tr th:only-of-type {\n",
       "        vertical-align: middle;\n",
       "    }\n",
       "\n",
       "    .dataframe tbody tr th {\n",
       "        vertical-align: top;\n",
       "    }\n",
       "\n",
       "    .dataframe thead th {\n",
       "        text-align: right;\n",
       "    }\n",
       "</style>\n",
       "<table border=\"1\" class=\"dataframe\">\n",
       "  <thead>\n",
       "    <tr style=\"text-align: right;\">\n",
       "      <th></th>\n",
       "      <th>artistID</th>\n",
       "      <th>name</th>\n",
       "      <th>userID</th>\n",
       "      <th>playCounts</th>\n",
       "    </tr>\n",
       "  </thead>\n",
       "  <tbody>\n",
       "    <tr>\n",
       "      <th>2800</th>\n",
       "      <td>72</td>\n",
       "      <td>Depeche Mode</td>\n",
       "      <td>1642</td>\n",
       "      <td>352698</td>\n",
       "    </tr>\n",
       "    <tr>\n",
       "      <th>35843</th>\n",
       "      <td>792</td>\n",
       "      <td>Thalía</td>\n",
       "      <td>2071</td>\n",
       "      <td>324663</td>\n",
       "    </tr>\n",
       "    <tr>\n",
       "      <th>27302</th>\n",
       "      <td>511</td>\n",
       "      <td>U2</td>\n",
       "      <td>1094</td>\n",
       "      <td>320725</td>\n",
       "    </tr>\n",
       "    <tr>\n",
       "      <th>8152</th>\n",
       "      <td>203</td>\n",
       "      <td>Blur</td>\n",
       "      <td>1905</td>\n",
       "      <td>257978</td>\n",
       "    </tr>\n",
       "    <tr>\n",
       "      <th>26670</th>\n",
       "      <td>498</td>\n",
       "      <td>Paramore</td>\n",
       "      <td>1664</td>\n",
       "      <td>227829</td>\n",
       "    </tr>\n",
       "  </tbody>\n",
       "</table>\n",
       "</div>"
      ],
      "text/plain": [
       "       artistID          name  userID  playCounts\n",
       "2800         72  Depeche Mode    1642      352698\n",
       "35843       792        Thalía    2071      324663\n",
       "27302       511            U2    1094      320725\n",
       "8152        203          Blur    1905      257978\n",
       "26670       498      Paramore    1664      227829"
      ]
     },
     "execution_count": 6,
     "metadata": {},
     "output_type": "execute_result"
    }
   ],
   "source": [
    "# merging artist and playCount dataframe\n",
    "artistPlays = pd.merge(artist, plays, on ='artistID')\n",
    "artistPlays = (artistPlays.drop(columns=['url','pictureURL']).\n",
    "                 rename(columns={\"weight\":\"playCounts\"}).\n",
    "                 sort_values(by='playCounts', ascending=False))\n",
    "artistPlays.head()"
   ]
  },
  {
   "cell_type": "code",
   "execution_count": 7,
   "metadata": {},
   "outputs": [],
   "source": [
    "# created artist and user rank to see which user listen to the most artist and which artist is the most played\n",
    "artist_rank = (artistPlays.groupby(['name']).agg({'userID':'count','playCounts':'sum'}).\n",
    "               rename(columns={\"userID\":'totalUniqueUsers',\"playCounts\":\"totalArtistPlays\"}).\n",
    "               sort_values(['totalArtistPlays'],ascending=False))\n",
    "artist_rank['avgUserPlays'] = artist_rank['totalArtistPlays']/artist_rank['totalUniqueUsers']\n",
    "\n",
    "user_rank = (artistPlays.groupby(['userID']).agg({'name':'count','playCounts':'sum'}).\n",
    "             rename(columns={\"name\":'totalUniqueArtists',\"playCounts\":\"totalUserPlays\"}).\n",
    "             sort_values(['totalUserPlays'],ascending=False))"
   ]
  },
  {
   "cell_type": "code",
   "execution_count": 8,
   "metadata": {},
   "outputs": [
    {
     "data": {
      "text/html": [
       "<div>\n",
       "<style scoped>\n",
       "    .dataframe tbody tr th:only-of-type {\n",
       "        vertical-align: middle;\n",
       "    }\n",
       "\n",
       "    .dataframe tbody tr th {\n",
       "        vertical-align: top;\n",
       "    }\n",
       "\n",
       "    .dataframe thead th {\n",
       "        text-align: right;\n",
       "    }\n",
       "</style>\n",
       "<table border=\"1\" class=\"dataframe\">\n",
       "  <thead>\n",
       "    <tr style=\"text-align: right;\">\n",
       "      <th></th>\n",
       "      <th>totalUniqueUsers</th>\n",
       "      <th>totalArtistPlays</th>\n",
       "      <th>avgUserPlays</th>\n",
       "    </tr>\n",
       "    <tr>\n",
       "      <th>name</th>\n",
       "      <th></th>\n",
       "      <th></th>\n",
       "      <th></th>\n",
       "    </tr>\n",
       "  </thead>\n",
       "  <tbody>\n",
       "    <tr>\n",
       "      <th>Britney Spears</th>\n",
       "      <td>522</td>\n",
       "      <td>2393140</td>\n",
       "      <td>4584.559387</td>\n",
       "    </tr>\n",
       "    <tr>\n",
       "      <th>Depeche Mode</th>\n",
       "      <td>282</td>\n",
       "      <td>1301308</td>\n",
       "      <td>4614.567376</td>\n",
       "    </tr>\n",
       "    <tr>\n",
       "      <th>Lady Gaga</th>\n",
       "      <td>611</td>\n",
       "      <td>1291387</td>\n",
       "      <td>2113.563011</td>\n",
       "    </tr>\n",
       "    <tr>\n",
       "      <th>Christina Aguilera</th>\n",
       "      <td>407</td>\n",
       "      <td>1058405</td>\n",
       "      <td>2600.503686</td>\n",
       "    </tr>\n",
       "    <tr>\n",
       "      <th>Paramore</th>\n",
       "      <td>399</td>\n",
       "      <td>963449</td>\n",
       "      <td>2414.659148</td>\n",
       "    </tr>\n",
       "    <tr>\n",
       "      <th>Madonna</th>\n",
       "      <td>429</td>\n",
       "      <td>921198</td>\n",
       "      <td>2147.314685</td>\n",
       "    </tr>\n",
       "    <tr>\n",
       "      <th>Rihanna</th>\n",
       "      <td>484</td>\n",
       "      <td>905423</td>\n",
       "      <td>1870.708678</td>\n",
       "    </tr>\n",
       "    <tr>\n",
       "      <th>Shakira</th>\n",
       "      <td>319</td>\n",
       "      <td>688529</td>\n",
       "      <td>2158.398119</td>\n",
       "    </tr>\n",
       "    <tr>\n",
       "      <th>The Beatles</th>\n",
       "      <td>480</td>\n",
       "      <td>662116</td>\n",
       "      <td>1379.408333</td>\n",
       "    </tr>\n",
       "    <tr>\n",
       "      <th>Katy Perry</th>\n",
       "      <td>473</td>\n",
       "      <td>532545</td>\n",
       "      <td>1125.887949</td>\n",
       "    </tr>\n",
       "  </tbody>\n",
       "</table>\n",
       "</div>"
      ],
      "text/plain": [
       "                    totalUniqueUsers  totalArtistPlays  avgUserPlays\n",
       "name                                                                \n",
       "Britney Spears                   522           2393140   4584.559387\n",
       "Depeche Mode                     282           1301308   4614.567376\n",
       "Lady Gaga                        611           1291387   2113.563011\n",
       "Christina Aguilera               407           1058405   2600.503686\n",
       "Paramore                         399            963449   2414.659148\n",
       "Madonna                          429            921198   2147.314685\n",
       "Rihanna                          484            905423   1870.708678\n",
       "Shakira                          319            688529   2158.398119\n",
       "The Beatles                      480            662116   1379.408333\n",
       "Katy Perry                       473            532545   1125.887949"
      ]
     },
     "execution_count": 8,
     "metadata": {},
     "output_type": "execute_result"
    }
   ],
   "source": [
    "artist_rank.head(10)"
   ]
  },
  {
   "cell_type": "code",
   "execution_count": 9,
   "metadata": {},
   "outputs": [
    {
     "data": {
      "text/html": [
       "<div>\n",
       "<style scoped>\n",
       "    .dataframe tbody tr th:only-of-type {\n",
       "        vertical-align: middle;\n",
       "    }\n",
       "\n",
       "    .dataframe tbody tr th {\n",
       "        vertical-align: top;\n",
       "    }\n",
       "\n",
       "    .dataframe thead th {\n",
       "        text-align: right;\n",
       "    }\n",
       "</style>\n",
       "<table border=\"1\" class=\"dataframe\">\n",
       "  <thead>\n",
       "    <tr style=\"text-align: right;\">\n",
       "      <th></th>\n",
       "      <th>totalUniqueArtists</th>\n",
       "      <th>totalUserPlays</th>\n",
       "    </tr>\n",
       "    <tr>\n",
       "      <th>userID</th>\n",
       "      <th></th>\n",
       "      <th></th>\n",
       "    </tr>\n",
       "  </thead>\n",
       "  <tbody>\n",
       "    <tr>\n",
       "      <th>757</th>\n",
       "      <td>50</td>\n",
       "      <td>480039</td>\n",
       "    </tr>\n",
       "    <tr>\n",
       "      <th>2000</th>\n",
       "      <td>50</td>\n",
       "      <td>468409</td>\n",
       "    </tr>\n",
       "    <tr>\n",
       "      <th>1418</th>\n",
       "      <td>50</td>\n",
       "      <td>416349</td>\n",
       "    </tr>\n",
       "    <tr>\n",
       "      <th>1642</th>\n",
       "      <td>50</td>\n",
       "      <td>388251</td>\n",
       "    </tr>\n",
       "    <tr>\n",
       "      <th>1094</th>\n",
       "      <td>50</td>\n",
       "      <td>379125</td>\n",
       "    </tr>\n",
       "  </tbody>\n",
       "</table>\n",
       "</div>"
      ],
      "text/plain": [
       "        totalUniqueArtists  totalUserPlays\n",
       "userID                                    \n",
       "757                     50          480039\n",
       "2000                    50          468409\n",
       "1418                    50          416349\n",
       "1642                    50          388251\n",
       "1094                    50          379125"
      ]
     },
     "execution_count": 9,
     "metadata": {},
     "output_type": "execute_result"
    }
   ],
   "source": [
    "user_rank.head()"
   ]
  },
  {
   "cell_type": "code",
   "execution_count": 10,
   "metadata": {},
   "outputs": [],
   "source": [
    "# didn't have to join but joined both dataframes to artist_plays df to get a better look of what I'm working with\n",
    "df2 = artistPlays.join(artist_rank,on='name',how='inner')\n",
    "df3 = df2.join(user_rank,on='userID',how='inner').sort_values(['playCounts'],ascending=False)"
   ]
  },
  {
   "cell_type": "code",
   "execution_count": 11,
   "metadata": {},
   "outputs": [
    {
     "data": {
      "text/html": [
       "<div>\n",
       "<style scoped>\n",
       "    .dataframe tbody tr th:only-of-type {\n",
       "        vertical-align: middle;\n",
       "    }\n",
       "\n",
       "    .dataframe tbody tr th {\n",
       "        vertical-align: top;\n",
       "    }\n",
       "\n",
       "    .dataframe thead th {\n",
       "        text-align: right;\n",
       "    }\n",
       "</style>\n",
       "<table border=\"1\" class=\"dataframe\">\n",
       "  <thead>\n",
       "    <tr style=\"text-align: right;\">\n",
       "      <th></th>\n",
       "      <th>artistID</th>\n",
       "      <th>name</th>\n",
       "      <th>userID</th>\n",
       "      <th>playCounts</th>\n",
       "      <th>totalUniqueUsers</th>\n",
       "      <th>totalArtistPlays</th>\n",
       "      <th>avgUserPlays</th>\n",
       "      <th>totalUniqueArtists</th>\n",
       "      <th>totalUserPlays</th>\n",
       "    </tr>\n",
       "  </thead>\n",
       "  <tbody>\n",
       "    <tr>\n",
       "      <th>2800</th>\n",
       "      <td>72</td>\n",
       "      <td>Depeche Mode</td>\n",
       "      <td>1642</td>\n",
       "      <td>352698</td>\n",
       "      <td>282</td>\n",
       "      <td>1301308</td>\n",
       "      <td>4614.567376</td>\n",
       "      <td>50</td>\n",
       "      <td>388251</td>\n",
       "    </tr>\n",
       "    <tr>\n",
       "      <th>35843</th>\n",
       "      <td>792</td>\n",
       "      <td>Thalía</td>\n",
       "      <td>2071</td>\n",
       "      <td>324663</td>\n",
       "      <td>26</td>\n",
       "      <td>350035</td>\n",
       "      <td>13462.884615</td>\n",
       "      <td>50</td>\n",
       "      <td>338400</td>\n",
       "    </tr>\n",
       "    <tr>\n",
       "      <th>27302</th>\n",
       "      <td>511</td>\n",
       "      <td>U2</td>\n",
       "      <td>1094</td>\n",
       "      <td>320725</td>\n",
       "      <td>185</td>\n",
       "      <td>493024</td>\n",
       "      <td>2664.994595</td>\n",
       "      <td>50</td>\n",
       "      <td>379125</td>\n",
       "    </tr>\n",
       "  </tbody>\n",
       "</table>\n",
       "</div>"
      ],
      "text/plain": [
       "       artistID          name  userID  playCounts  totalUniqueUsers  \\\n",
       "2800         72  Depeche Mode    1642      352698               282   \n",
       "35843       792        Thalía    2071      324663                26   \n",
       "27302       511            U2    1094      320725               185   \n",
       "\n",
       "       totalArtistPlays  avgUserPlays  totalUniqueArtists  totalUserPlays  \n",
       "2800            1301308   4614.567376                  50          388251  \n",
       "35843            350035  13462.884615                  50          338400  \n",
       "27302            493024   2664.994595                  50          379125  "
      ]
     },
     "execution_count": 11,
     "metadata": {},
     "output_type": "execute_result"
    }
   ],
   "source": [
    "df3.head(3)"
   ]
  },
  {
   "cell_type": "markdown",
   "metadata": {},
   "source": [
    "### Data Visualization"
   ]
  },
  {
   "cell_type": "code",
   "execution_count": 41,
   "metadata": {},
   "outputs": [
    {
     "name": "stderr",
     "output_type": "stream",
     "text": [
      "/Users/billylopez/opt/anaconda3/envs/learn-env/lib/python3.6/site-packages/seaborn/_decorators.py:43: FutureWarning: Pass the following variables as keyword args: x, y. From version 0.12, the only valid positional argument will be `data`, and passing other arguments without an explicit keyword will result in an error or misinterpretation.\n",
      "  FutureWarning\n"
     ]
    },
    {
     "data": {
      "image/png": "[encoded data removed]",
      "text/plain": [
       "<Figure size 1080x720 with 1 Axes>"
      ]
     },
     "metadata": {
      "needs_background": "light"
     },
     "output_type": "display_data"
    }
   ],
   "source": [
    "top_artists = artist_rank.sort_values(['totalArtistPlays'],ascending=False).index[:12]\n",
    "\n",
    "x = artist_rank.totalUniqueUsers\n",
    "y = artist_rank.totalArtistPlays\n",
    "labels = artist_rank.index\n",
    "ax.\n",
    "fig, ax = plt.subplots(figsize=(15,10))\n",
    "sns.regplot(x,y)\n",
    "ax.set_title('Artist Popularity: Play Count vs Unique Users',fontweight='bold')\n",
    "ax.yaxis.set_major_formatter(ticker.FuncFormatter(lambda y, _: '{:,.0f}'.format(y)))\n",
    "ax.set_xlabel('Total Unique Users',fontweight='bold')\n",
    "ax.set_ylabel('Total Artist Plays',fontweight='bold')\n",
    "\n",
    "for i, t in enumerate(labels):\n",
    "    if t in top_artists:\n",
    "        ax.annotate(t,(x[i],y[i]))"
   ]
  },
  {
   "cell_type": "code",
   "execution_count": 13,
   "metadata": {},
   "outputs": [
    {
     "data": {
      "text/plain": [
       "<AxesSubplot:title={'center':'User Ranking: Total User Plays vs Unique Artist'}, xlabel='Total Unique Artists', ylabel='Total User Plays'>"
      ]
     },
     "execution_count": 13,
     "metadata": {},
     "output_type": "execute_result"
    },
    {
     "data": {
      "image/png": "[encoded data removed]",
      "text/plain": [
       "<Figure size 1080x720 with 1 Axes>"
      ]
     },
     "metadata": {
      "needs_background": "light"
     },
     "output_type": "display_data"
    }
   ],
   "source": [
    "x=user_rank.groupby('totalUniqueArtists')['totalUserPlays'].count().index\n",
    "y=user_rank.groupby('totalUniqueArtists')['totalUserPlays'].count()\n",
    "# Plot the responses for different events and regions\n",
    "fig, ax2 = plt.subplots(figsize=(15,10))\n",
    "ax2.set_title('User Ranking: Total User Plays vs Unique Artist',fontweight='bold')\n",
    "ax2.set_xlabel('Total Unique Artists',fontweight='bold')\n",
    "ax2.set_ylabel('Total User Plays',fontweight='bold')\n",
    "\n",
    "sns.lineplot(x=x,y=y)"
   ]
  },
  {
   "cell_type": "markdown",
   "metadata": {},
   "source": [
    "### Train Test Split with Surprise"
   ]
  },
  {
   "cell_type": "code",
   "execution_count": 24,
   "metadata": {},
   "outputs": [],
   "source": [
    "reader = Reader(rating_scale=(1, 5))\n",
    "userRatings_data=Dataset.load_from_df(df3[['artistID','userID','playCounts']],reader)"
   ]
  },
  {
   "cell_type": "code",
   "execution_count": 25,
   "metadata": {},
   "outputs": [],
   "source": [
    "trainset, testset = train_test_split(userRatings_data, test_size=0.3)"
   ]
  },
  {
   "cell_type": "code",
   "execution_count": 26,
   "metadata": {},
   "outputs": [
    {
     "name": "stdout",
     "output_type": "stream",
     "text": [
      "Type trainset : <class 'surprise.trainset.Trainset'> \n",
      "\n",
      "Type testset : <class 'list'>\n"
     ]
    }
   ],
   "source": [
    "print('Type trainset :',type(trainset),'\\n')\n",
    "print('Type testset :',type(testset))"
   ]
  },
  {
   "cell_type": "markdown",
   "metadata": {},
   "source": [
    "### SVD Model with Surprise"
   ]
  },
  {
   "cell_type": "code",
   "execution_count": 27,
   "metadata": {},
   "outputs": [
    {
     "name": "stdout",
     "output_type": "stream",
     "text": [
      "RMSE: 3398.2087\n",
      "3398.208652615796\n"
     ]
    }
   ],
   "source": [
    "# started mdeling with SVD to test the dataset\n",
    "svd = SVD(n_factors=100, n_epochs=50, lr_all=0.007, reg_all=0.5)\n",
    "svd.fit(trainset)\n",
    "predictions = svd.test(testset)\n",
    "print(accuracy.rmse(predictions))"
   ]
  },
  {
   "cell_type": "markdown",
   "metadata": {},
   "source": [
    "### GridSearch for best Params"
   ]
  },
  {
   "cell_type": "code",
   "execution_count": 29,
   "metadata": {},
   "outputs": [],
   "source": [
    "# running a grid search to find the best params to fit the svd model\n",
    "param_grid = {\n",
    "    'n_factors':[5, 10,20, 25],\n",
    "    'n_epochs': [5, 10, 20], \n",
    "    'lr_all': [0.002, 0.005, 0.006],\n",
    "    'reg_all': [0.4, 0.6, .8]}"
   ]
  },
  {
   "cell_type": "code",
   "execution_count": 30,
   "metadata": {},
   "outputs": [],
   "source": [
    "gs_model = GridSearchCV(algo_class = SVD,param_grid = param_grid,n_jobs = -1,joblib_verbose = 5)"
   ]
  },
  {
   "cell_type": "code",
   "execution_count": 42,
   "metadata": {},
   "outputs": [
    {
     "name": "stderr",
     "output_type": "stream",
     "text": [
      "[Parallel(n_jobs=-1)]: Using backend LokyBackend with 4 concurrent workers.\n",
      "[Parallel(n_jobs=-1)]: Done  10 tasks      | elapsed:   23.3s\n",
      "[Parallel(n_jobs=-1)]: Done  64 tasks      | elapsed:  2.6min\n",
      "[Parallel(n_jobs=-1)]: Done 154 tasks      | elapsed:  6.3min\n",
      "[Parallel(n_jobs=-1)]: Done 280 tasks      | elapsed: 11.6min\n",
      "[Parallel(n_jobs=-1)]: Done 442 tasks      | elapsed: 18.3min\n",
      "[Parallel(n_jobs=-1)]: Done 540 out of 540 | elapsed: 22.6min finished\n"
     ]
    }
   ],
   "source": [
    "gs_model.fit(userRatings_data)"
   ]
  },
  {
   "cell_type": "code",
   "execution_count": 32,
   "metadata": {},
   "outputs": [],
   "source": [
    "gs_model.best_params"
   ]
  },
  {
   "cell_type": "markdown",
   "metadata": {},
   "source": [
    "### Refitting SVD model with best Params"
   ]
  },
  {
   "cell_type": "code",
   "execution_count": 28,
   "metadata": {},
   "outputs": [
    {
     "name": "stdout",
     "output_type": "stream",
     "text": [
      "RMSE: 3398.2087\n",
      "3398.2086525312684\n"
     ]
    }
   ],
   "source": [
    "svd = SVD(n_factors= 5, n_epochs= 10, lr_all=0.002, reg_all= 0.6)\n",
    "svd.fit(trainset)\n",
    "predictions = svd.test(testset)\n",
    "print(accuracy.rmse(predictions))"
   ]
  },
  {
   "cell_type": "markdown",
   "metadata": {},
   "source": [
    "### KNN Models with Surprise"
   ]
  },
  {
   "cell_type": "markdown",
   "metadata": {},
   "source": [
    "####  Similarity Matrices with different metrics"
   ]
  },
  {
   "cell_type": "code",
   "execution_count": 19,
   "metadata": {},
   "outputs": [
    {
     "name": "stdout",
     "output_type": "stream",
     "text": [
      "Estimating biases using als...\n",
      "Computing the pearson_baseline similarity matrix...\n",
      "Done computing similarity matrix.\n",
      "RMSE: 3925.0844\n",
      "3925.0843959661725\n"
     ]
    }
   ],
   "source": [
    "sim_pearson = {'name':'pearson_baseline', 'user_based':False}\n",
    "basic_pearson = knns.KNNBasic(sim_options=sim_pearson)\n",
    "basic_pearson.fit(trainset)\n",
    "predictions = basic_pearson.test(testset)\n",
    "print(accuracy.rmse(predictions))"
   ]
  },
  {
   "cell_type": "code",
   "execution_count": 20,
   "metadata": {},
   "outputs": [
    {
     "name": "stdout",
     "output_type": "stream",
     "text": [
      "Computing the cosine similarity matrix...\n",
      "Done computing similarity matrix.\n",
      "RMSE: 3925.1278\n",
      "3925.127831122605\n"
     ]
    }
   ],
   "source": [
    "sim_cos = {'name':'cosine','user_based': True}\n",
    "knn_means = knns.KNNWithMeans(sim_options=sim_cos)\n",
    "knn_means.fit(trainset)\n",
    "predictions = knn_means.test(testset)\n",
    "print(accuracy.rmse(predictions))"
   ]
  },
  {
   "cell_type": "code",
   "execution_count": 21,
   "metadata": {},
   "outputs": [
    {
     "name": "stdout",
     "output_type": "stream",
     "text": [
      "Computing the cosine similarity matrix...\n",
      "Done computing similarity matrix.\n",
      "Computing the cosine similarity matrix...\n",
      "Done computing similarity matrix.\n",
      "Computing the cosine similarity matrix...\n",
      "Done computing similarity matrix.\n",
      "Computing the cosine similarity matrix...\n",
      "Done computing similarity matrix.\n",
      "Computing the cosine similarity matrix...\n",
      "Done computing similarity matrix.\n"
     ]
    }
   ],
   "source": [
    "cv_knn_means = cross_validate(knn_means,userRatings_data)"
   ]
  },
  {
   "cell_type": "code",
   "execution_count": 22,
   "metadata": {},
   "outputs": [
    {
     "name": "stdout",
     "output_type": "stream",
     "text": [
      "('test_rmse', array([3075.49506941, 3749.73551754, 4126.80767608, 4590.45426469,\n",
      "       3388.30299737]))\n",
      "('test_mae', array([731.18208084, 744.40504464, 746.53410658, 749.183378  ,\n",
      "       734.41724115]))\n",
      "('fit_time', (34.86445426940918, 33.262694120407104, 34.82403087615967, 37.90734004974365, 38.47799491882324))\n",
      "('test_time', (1.894054889678955, 2.999555826187134, 2.5242459774017334, 3.036531925201416, 1.8274421691894531))\n"
     ]
    },
    {
     "data": {
      "text/plain": [
       "3786.159105017609"
      ]
     },
     "execution_count": 22,
     "metadata": {},
     "output_type": "execute_result"
    }
   ],
   "source": [
    "for i in cv_knn_means.items():\n",
    "    print(i)\n",
    "\n",
    "np.mean(cv_knn_means['test_rmse'])"
   ]
  },
  {
   "cell_type": "markdown",
   "metadata": {},
   "source": [
    "### Item Similarity with scitkit learn with Nearest Nieghbors"
   ]
  },
  {
   "cell_type": "code",
   "execution_count": 14,
   "metadata": {},
   "outputs": [],
   "source": [
    "def data_to_sparse(data,index,columns,values):\n",
    "    pivot = data.pivot(index=index,columns=columns,values=values).fillna(0)\n",
    "    sparse = csr_matrix(pivot.values)\n",
    "    print(sparse.shape)\n",
    "    return pivot,sparse\n",
    "\n",
    "#user K Nearest Neighbors to determine cosine distance amongst artists\n",
    "#tried euclidean but it over shot the distance by too much\n",
    "def fit_knn(sparse):\n",
    "    knn = NearestNeighbors(metric='cosine')\n",
    "    knn.fit(sparse)\n",
    "    print(knn)\n",
    "    return knn "
   ]
  },
  {
   "cell_type": "code",
   "execution_count": 15,
   "metadata": {},
   "outputs": [],
   "source": [
    "seed = np.random.RandomState(seed=42)\n",
    "def id_recommend(data,_id,model,k):\n",
    "    distances, indices = (model.kneighbors(data.\n",
    "                                     iloc[_id,:].\n",
    "                                     values.reshape(1,-1),\n",
    "                                     n_neighbors=k+1))\n",
    "\n",
    "    for i in range(0,len(distances.flatten())):\n",
    "        if i == 0:\n",
    "            print(('Recommendations for {}:\\n'.\n",
    "                  format(data.index[_id])))\n",
    "        else:\n",
    "            print(('{}: {} ({:.3f})'.\n",
    "                  format(i,\n",
    "                         data.index[indices.flatten()[i]],\n",
    "                         distances.flatten()[i])))\n",
    "    return ''"
   ]
  },
  {
   "cell_type": "code",
   "execution_count": 16,
   "metadata": {},
   "outputs": [
    {
     "name": "stdout",
     "output_type": "stream",
     "text": [
      "(17632, 1892)\n"
     ]
    }
   ],
   "source": [
    "pivot_df3,sparse_df3 = data_to_sparse(df3,index='name',columns='userID',values='playCounts')"
   ]
  },
  {
   "cell_type": "code",
   "execution_count": 17,
   "metadata": {},
   "outputs": [
    {
     "name": "stdout",
     "output_type": "stream",
     "text": [
      "NearestNeighbors(algorithm='auto', leaf_size=30, metric='cosine',\n",
      "                 metric_params=None, n_jobs=None, n_neighbors=5, p=2,\n",
      "                 radius=1.0)\n"
     ]
    }
   ],
   "source": [
    "knn = fit_knn(sparse_df3)"
   ]
  },
  {
   "cell_type": "code",
   "execution_count": 18,
   "metadata": {},
   "outputs": [
    {
     "name": "stdout",
     "output_type": "stream",
     "text": [
      "Recommendations for VINILOVERSUS:\n",
      "\n",
      "1: VINILOVERSUS (0.000)\n",
      "2: Taking Back Sunday (0.792)\n",
      "3: Ana Johnsson (0.856)\n",
      "4: Lacuna Coil (0.864)\n",
      "5: Breaking Benjamin (0.867)\n"
     ]
    },
    {
     "data": {
      "text/plain": [
       "''"
      ]
     },
     "execution_count": 18,
     "metadata": {},
     "output_type": "execute_result"
    }
   ],
   "source": [
    "query_index = seed.choice(pivot_df3.shape[0])\n",
    "id_recommend(pivot_df3,query_index,knn,5)"
   ]
  },
  {
   "cell_type": "code",
   "execution_count": 39,
   "metadata": {},
   "outputs": [
    {
     "name": "stdout",
     "output_type": "stream",
     "text": [
      "Recommendations for Shakira:\n",
      "\n",
      "1: Xtuna (0.314)\n",
      "2: Karl Wolf (0.326)\n",
      "3: Sunidhi Chauhan (0.326)\n",
      "4: Cameron Cartio (0.326)\n",
      "5: K.K. (0.326)\n",
      "6: Outlandish (0.326)\n",
      "7: Shreya Ghoshal & Shaan (0.326)\n",
      "8: Enrique Iglesias (0.410)\n",
      "9: Black Eyed Peas (0.474)\n",
      "10: Beyoncé (0.491)\n"
     ]
    },
    {
     "data": {
      "text/plain": [
       "''"
      ]
     },
     "execution_count": 39,
     "metadata": {},
     "output_type": "execute_result"
    }
   ],
   "source": [
    "query_index = pivot_df3.index.get_loc('Shakira')\n",
    "id_recommend(pivot_df3,query_index,knn,10)"
   ]
  },
  {
   "cell_type": "code",
   "execution_count": 20,
   "metadata": {},
   "outputs": [],
   "source": [
    "def fuzzy_match(query_subject,data):\n",
    "    ratio_tuples = []\n",
    "    \n",
    "    # each artist name is the subject in the data index\n",
    "    # each artist in the data is compared against our query subject to determine percentage match\n",
    "    # NOTE there may be ways to optimize this process by not looping through all artists\n",
    "    for subject in data.index:\n",
    "        ratio = fuzz.ratio(subject.lower(),query_subject.lower())\n",
    "        current_query_idx = data.index.tolist().index(subject)\n",
    "        ratio_tuples.append((subject, ratio,current_query_idx))\n",
    "        \n",
    "    # our findings are then sorted based on match rating, and top two are kept\n",
    "    ratio_tuples = sorted(ratio_tuples, key=lambda tup: tup[1],reverse=True)[:2]\n",
    "    \n",
    "    print('Top matches: {}\\n'.format([(x[0],x[1]) for x in ratio_tuples]))  \n",
    "    \n",
    "    match = ratio_tuples[0][0]\n",
    "    \n",
    "    return match, ratio_tuples\n",
    "\n",
    "def artist_recommend(query_artist, data, model,k):\n",
    "    \n",
    "    # determining artist matches using fuzzy matching\n",
    "    \n",
    "    match, ratio_tuples = fuzzy_match(query_artist,data)\n",
    "    \n",
    "    # look up artist by query index\n",
    "    id_recommend(data, ratio_tuples[0][2],model,k)   \n",
    "    return ''"
   ]
  },
  {
   "cell_type": "code",
   "execution_count": 38,
   "metadata": {},
   "outputs": [
    {
     "name": "stdout",
     "output_type": "stream",
     "text": [
      "Top matches: [('Shakira', 100), ('Sakura', 77)]\n",
      "\n",
      "Recommendations for Shakira:\n",
      "\n",
      "1: Xtuna (0.314)\n",
      "2: Karl Wolf (0.326)\n",
      "3: Sunidhi Chauhan (0.326)\n",
      "4: Cameron Cartio (0.326)\n",
      "5: K.K. (0.326)\n",
      "6: Outlandish (0.326)\n",
      "7: Shreya Ghoshal & Shaan (0.326)\n",
      "8: Enrique Iglesias (0.410)\n",
      "9: Black Eyed Peas (0.474)\n",
      "10: Beyoncé (0.491)\n"
     ]
    },
    {
     "data": {
      "text/plain": [
       "''"
      ]
     },
     "execution_count": 38,
     "metadata": {},
     "output_type": "execute_result"
    }
   ],
   "source": [
    "artist_recommend('Shakira',pivot_df3,knn,10)"
   ]
  },
  {
   "cell_type": "code",
   "execution_count": 34,
   "metadata": {},
   "outputs": [
    {
     "name": "stdout",
     "output_type": "stream",
     "text": [
      "MINIMUM VALUES\n",
      "totalUserPlays from 3 to 1001\n",
      "totalUniqueArtists from 1 to 10\n",
      "totalArtistPlays from 1 to 10007\n",
      "totalUniqueUsers from 1 to 10\n",
      "\n",
      "FILTER IMPACT\n",
      "FILTERED Users: 1790 Artists: 871\n",
      "ORIGINAL Users: 1892 Artists: 17632\n",
      "FILTERED % ORIGINAL Users: 94.6% Artists: 4.9%\n"
     ]
    }
   ],
   "source": [
    "# Data has artist that get only 1 or 2 listens so going to try and clean data by giving feature minimums\n",
    "minPlaysPerUser = 1000 # minimum aggregate play count per user\n",
    "minUniqueArtistPlays = 10 # minimum different artists that need values per user to be counted\n",
    "minArtistPlays = 10000 # minimum times an artist must be played\n",
    "minListeners = 10 # minimum unique listeners of artist to be played\n",
    "\n",
    "def threshold(data,\n",
    "                    minPlaysPerUser,\n",
    "                    minUniqueArtistPlays,\n",
    "                    minArtistPlays,\n",
    "                    minListeners):\n",
    "    \n",
    "    filtered = (data[(data['totalUserPlays']>=minPlaysPerUser) & \n",
    "               (data['totalUniqueArtists']>=minUniqueArtistPlays) & \n",
    "               (data['totalArtistPlays']>=minArtistPlays) & \n",
    "               (data['totalUniqueUsers']>=minListeners)])\n",
    "\n",
    "    # confirm our min thresholds have been applied\n",
    "    print('MINIMUM VALUES')\n",
    "    print('totalUserPlays from {} to {}'.format(min(data.totalUserPlays),min(filtered.totalUserPlays)))\n",
    "    print('totalUniqueArtists from {} to {}'.format(min(data.totalUniqueArtists),min(filtered.totalUniqueArtists)))\n",
    "    print('totalArtistPlays from {} to {}'.format(min(data.totalArtistPlays),min(filtered.totalArtistPlays)))\n",
    "    print('totalUniqueUsers from {} to {}'.format(min(data.totalUniqueUsers),min(filtered.totalUniqueUsers)))\n",
    "\n",
    "    print('\\nFILTER IMPACT')\n",
    "    print(\"FILTERED Users: {} Artists: {}\".format(len(filtered['userID'].unique()),\n",
    "                                                           len(filtered['name'].unique())))\n",
    "    print(\"ORIGINAL Users: {} Artists: {}\".format(len(data['userID'].unique()),\n",
    "                                                           len(data['name'].unique())))\n",
    "    print(\"FILTERED % ORIGINAL Users: {:.1f}% Artists: {:.1f}%\".format(100*(len(filtered['userID'].unique())/len(data['userID'].unique())),\n",
    "                                                           100*(len(filtered['name'].unique())/len(data['name'].unique()))))\n",
    "    return filtered\n",
    "\n",
    "df4 = threshold(df3,minPlaysPerUser,minUniqueArtistPlays,minArtistPlays,minListeners)"
   ]
  },
  {
   "cell_type": "code",
   "execution_count": 35,
   "metadata": {},
   "outputs": [
    {
     "name": "stdout",
     "output_type": "stream",
     "text": [
      "(871, 1790)\n",
      "NearestNeighbors(algorithm='auto', leaf_size=30, metric='cosine',\n",
      "                 metric_params=None, n_jobs=None, n_neighbors=5, p=2,\n",
      "                 radius=1.0)\n"
     ]
    }
   ],
   "source": [
    "pivot_df4,sparse_df4 = data_to_sparse(df4,index='name',columns='userID',values='playCounts')\n",
    "knn = fit_knn(sparse_df4)"
   ]
  },
  {
   "cell_type": "code",
   "execution_count": 45,
   "metadata": {},
   "outputs": [
    {
     "name": "stdout",
     "output_type": "stream",
     "text": [
      "Top matches: [('Shakira', 100), ('Air', 60)]\n",
      "\n",
      "Recommendations for Shakira:\n",
      "\n",
      "1: Enrique Iglesias (0.410)\n",
      "2: Black Eyed Peas (0.474)\n",
      "3: Beyoncé (0.491)\n",
      "4: Ke$ha (0.562)\n",
      "5: Bruno Mars (0.638)\n",
      "6: Michael Jackson (0.675)\n",
      "7: Katy Perry (0.733)\n",
      "8: Eminem (0.740)\n",
      "9: Rihanna (0.777)\n",
      "10: Gwen Stefani (0.811)\n"
     ]
    },
    {
     "data": {
      "text/plain": [
       "''"
      ]
     },
     "execution_count": 45,
     "metadata": {},
     "output_type": "execute_result"
    }
   ],
   "source": [
    "artist_recommend('Shakira',pivot_df4,knn,10)"
   ]
  },
  {
   "cell_type": "code",
   "execution_count": null,
   "metadata": {},
   "outputs": [],
   "source": []
  }
 ],
 "metadata": {
  "kernelspec": {
   "display_name": "Python 3",
   "language": "python",
   "name": "python3"
  },
  "language_info": {
   "codemirror_mode": {
    "name": "ipython",
    "version": 3
   },
   "file_extension": ".py",
   "mimetype": "text/x-python",
   "name": "python",
   "nbconvert_exporter": "python",
   "pygments_lexer": "ipython3",
   "version": "3.6.9"
  },
  "toc": {
   "base_numbering": 1,
   "nav_menu": {},
   "number_sections": true,
   "sideBar": true,
   "skip_h1_title": false,
   "title_cell": "Table of Contents",
   "title_sidebar": "Contents",
   "toc_cell": false,
   "toc_position": {},
   "toc_section_display": true,
   "toc_window_display": false
  }
 },
 "nbformat": 4,
 "nbformat_minor": 4
}
